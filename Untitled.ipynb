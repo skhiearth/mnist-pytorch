{
 "cells": [
  {
   "cell_type": "markdown",
   "metadata": {},
   "source": [
    "# MNIST HANDWRITTEN DIGIT CLASSIFICATION USING PYTORCH"
   ]
  },
  {
   "cell_type": "markdown",
   "metadata": {},
   "source": [
    "## GitHub Repository: https://github.com/skhiearth/mnist-pytorch\n",
    "\n",
    "Using PyTorch to build a Convolutional Neural Network to classify handwritten digits from the MNSIT dataset."
   ]
  },
  {
   "cell_type": "markdown",
   "metadata": {},
   "source": [
    "### Importing the required libraries"
   ]
  },
  {
   "cell_type": "code",
   "execution_count": 1,
   "metadata": {},
   "outputs": [],
   "source": [
    "import torch\n",
    "import matplotlib.pyplot as plt\n",
    "import numpy as np\n",
    "import torch.nn.functional as F\n",
    "from torch import nn\n",
    "from torchvision import datasets, transforms"
   ]
  },
  {
   "cell_type": "markdown",
   "metadata": {},
   "source": [
    "### Loading the dataset"
   ]
  },
  {
   "cell_type": "code",
   "execution_count": 2,
   "metadata": {},
   "outputs": [],
   "source": [
    "transform = transforms.Compose([transforms.Resize((28,28)),\n",
    "                               transforms.ToTensor(),\n",
    "                               transforms.Normalize((0.5,), (0.5,))\n",
    "                               ])\n",
    "\n",
    "training_dataset = datasets.MNIST(root='./data', train=True, download=True, transform=transform)\n",
    "validation_dataset = datasets.MNIST(root='./data', train=False, download=True, transform=transform)\n",
    "\n",
    "training_loader = torch.utils.data.DataLoader(training_dataset, batch_size = 100, shuffle=True)\n",
    "validation_loader = torch.utils.data.DataLoader(validation_dataset, batch_size = 100, shuffle=False)"
   ]
  },
  {
   "cell_type": "code",
   "execution_count": 3,
   "metadata": {},
   "outputs": [],
   "source": [
    "def im_convert(tensor):\n",
    "  image = tensor.clone().detach().numpy()\n",
    "  image = image.transpose(1, 2, 0)\n",
    "  image = image * np.array((0.5, 0.5, 0.5)) + np.array((0.5, 0.5, 0.5))\n",
    "  image = image.clip(0, 1)\n",
    "  return image"
   ]
  },
  {
   "cell_type": "markdown",
   "metadata": {},
   "source": [
    "### Building the classifier class from which the model object will be initialised"
   ]
  },
  {
   "cell_type": "code",
   "execution_count": 4,
   "metadata": {},
   "outputs": [],
   "source": [
    "class Classifier(nn.Module):\n",
    "    \n",
    "    def __init__(self, D_in, H1, H2, D_out):\n",
    "        super().__init__()\n",
    "        self.linear1 = nn.Linear(D_in, H1)\n",
    "        self.linear2 = nn.Linear(H1, H2)\n",
    "        self.linear3 = nn.Linear(H2, D_out)\n",
    "    def forward(self, x):\n",
    "        x = F.relu(self.linear1(x))  \n",
    "        x = F.relu(self.linear2(x))\n",
    "        x = self.linear3(x)\n",
    "        return x"
   ]
  },
  {
   "cell_type": "code",
   "execution_count": 5,
   "metadata": {},
   "outputs": [
    {
     "data": {
      "text/plain": [
       "Classifier(\n",
       "  (linear1): Linear(in_features=784, out_features=125, bias=True)\n",
       "  (linear2): Linear(in_features=125, out_features=65, bias=True)\n",
       "  (linear3): Linear(in_features=65, out_features=10, bias=True)\n",
       ")"
      ]
     },
     "execution_count": 5,
     "metadata": {},
     "output_type": "execute_result"
    }
   ],
   "source": [
    "model = Classifier(784, 125, 65, 10)\n",
    "criterion = nn.CrossEntropyLoss()\n",
    "optimizer = torch.optim.Adam(model.parameters(), lr = 0.0001)\n",
    "model"
   ]
  },
  {
   "cell_type": "code",
   "execution_count": 6,
   "metadata": {},
   "outputs": [
    {
     "name": "stdout",
     "output_type": "stream",
     "text": [
      "Epoch... 1\n",
      "training loss: 0.9377, acc 78.1200 \n",
      "validation loss: 0.4224, validation acc 89.1800 \n",
      "Epoch... 2\n",
      "training loss: 0.3789, acc 89.4883 \n",
      "validation loss: 0.3231, validation acc 90.6900 \n",
      "Epoch... 3\n",
      "training loss: 0.3173, acc 90.8567 \n",
      "validation loss: 0.2854, validation acc 91.7200 \n",
      "Epoch... 4\n",
      "training loss: 0.2839, acc 91.7767 \n",
      "validation loss: 0.2604, validation acc 92.3600 \n",
      "Epoch... 5\n",
      "training loss: 0.2578, acc 92.5233 \n",
      "validation loss: 0.2382, validation acc 93.0700 \n",
      "Epoch... 6\n",
      "training loss: 0.2366, acc 93.1333 \n",
      "validation loss: 0.2190, validation acc 93.6300 \n",
      "Epoch... 7\n",
      "training loss: 0.2168, acc 93.7217 \n",
      "validation loss: 0.2070, validation acc 93.9100 \n",
      "Epoch... 8\n",
      "training loss: 0.2006, acc 94.1617 \n",
      "validation loss: 0.1940, validation acc 94.2600 \n",
      "Epoch... 9\n",
      "training loss: 0.1865, acc 94.6500 \n",
      "validation loss: 0.1819, validation acc 94.7400 \n",
      "Epoch... 10\n",
      "training loss: 0.1739, acc 94.9517 \n",
      "validation loss: 0.1684, validation acc 94.9400 \n",
      "Epoch... 11\n",
      "training loss: 0.1630, acc 95.2667 \n",
      "validation loss: 0.1677, validation acc 95.1000 \n",
      "Epoch... 12\n",
      "training loss: 0.1527, acc 95.5967 \n",
      "validation loss: 0.1529, validation acc 95.5400 \n",
      "Epoch... 13\n",
      "training loss: 0.1439, acc 95.7967 \n",
      "validation loss: 0.1442, validation acc 95.7600 \n",
      "Epoch... 14\n",
      "training loss: 0.1358, acc 96.0233 \n",
      "validation loss: 0.1436, validation acc 95.7000 \n",
      "Epoch... 15\n",
      "training loss: 0.1285, acc 96.2333 \n",
      "validation loss: 0.1314, validation acc 96.1200 \n",
      "Epoch... 16\n",
      "training loss: 0.1212, acc 96.4867 \n",
      "validation loss: 0.1307, validation acc 96.1000 \n",
      "Epoch... 17\n",
      "training loss: 0.1155, acc 96.6000 \n",
      "validation loss: 0.1259, validation acc 96.2900 \n",
      "Epoch... 18\n",
      "training loss: 0.1092, acc 96.8233 \n",
      "validation loss: 0.1169, validation acc 96.4800 \n",
      "Epoch... 19\n",
      "training loss: 0.1045, acc 96.9367 \n",
      "validation loss: 0.1201, validation acc 96.4000 \n",
      "Epoch... 20\n",
      "training loss: 0.0999, acc 97.0833 \n",
      "validation loss: 0.1149, validation acc 96.3700 \n",
      "Epoch... 21\n",
      "training loss: 0.0952, acc 97.1850 \n",
      "validation loss: 0.1111, validation acc 96.6700 \n",
      "Epoch... 22\n",
      "training loss: 0.0904, acc 97.3867 \n",
      "validation loss: 0.1079, validation acc 96.7400 \n",
      "Epoch... 23\n",
      "training loss: 0.0868, acc 97.4983 \n",
      "validation loss: 0.1053, validation acc 96.6300 \n",
      "Epoch... 24\n",
      "training loss: 0.0830, acc 97.6383 \n",
      "validation loss: 0.1011, validation acc 97.0300 \n",
      "Epoch... 25\n",
      "training loss: 0.0798, acc 97.6650 \n",
      "validation loss: 0.0995, validation acc 96.8700 \n"
     ]
    }
   ],
   "source": [
    "epochs = 25\n",
    "running_loss_history = []\n",
    "running_corrects_history = []\n",
    "val_running_loss_history = []\n",
    "val_running_corrects_history = []\n",
    "\n",
    "for e in range(epochs):\n",
    "  \n",
    "  running_loss = 0.0\n",
    "  running_corrects = 0.0\n",
    "  val_running_loss = 0.0\n",
    "  val_running_corrects = 0.0\n",
    "  \n",
    "  for inputs, labels in training_loader:\n",
    "    inputs = inputs.view(inputs.shape[0], -1)\n",
    "    outputs = model(inputs)\n",
    "    loss = criterion(outputs, labels)\n",
    "    \n",
    "    optimizer.zero_grad()\n",
    "    loss.backward()\n",
    "    optimizer.step()\n",
    "    \n",
    "    _, preds = torch.max(outputs, 1)\n",
    "    running_loss += loss.item()\n",
    "    running_corrects += torch.sum(preds == labels.data)\n",
    "\n",
    "  else:\n",
    "    with torch.no_grad():\n",
    "      for val_inputs, val_labels in validation_loader:\n",
    "        val_inputs = val_inputs.view(val_inputs.shape[0], -1)\n",
    "        val_outputs = model(val_inputs)\n",
    "        val_loss = criterion(val_outputs, val_labels)\n",
    "        \n",
    "        _, val_preds = torch.max(val_outputs, 1)\n",
    "        val_running_loss += val_loss.item()\n",
    "        val_running_corrects += torch.sum(val_preds == val_labels.data)\n",
    "      \n",
    "    epoch_loss = running_loss/len(training_loader)\n",
    "    epoch_acc = running_corrects.float()/ len(training_loader)\n",
    "    running_loss_history.append(epoch_loss)\n",
    "    running_corrects_history.append(epoch_acc)\n",
    "    \n",
    "    val_epoch_loss = val_running_loss/len(validation_loader)\n",
    "    val_epoch_acc = val_running_corrects.float()/ len(validation_loader)\n",
    "    val_running_loss_history.append(val_epoch_loss)\n",
    "    val_running_corrects_history.append(val_epoch_acc)\n",
    "    print('Epoch...', (e+1))\n",
    "    print('training loss: {:.4f}, acc {:.4f} '.format(epoch_loss, epoch_acc.item()))\n",
    "    print('validation loss: {:.4f}, validation acc {:.4f} '.format(val_epoch_loss, val_epoch_acc.item()))"
   ]
  },
  {
   "cell_type": "markdown",
   "metadata": {},
   "source": [
    "### Plotting the trends of increase in training and validation accuracy over epochs"
   ]
  },
  {
   "cell_type": "code",
   "execution_count": 8,
   "metadata": {},
   "outputs": [
    {
     "data": {
      "text/plain": [
       "<matplotlib.legend.Legend at 0x118644e10>"
      ]
     },
     "execution_count": 8,
     "metadata": {},
     "output_type": "execute_result"
    },
    {
     "data": {
      "image/png": "[encoded data removed]",
      "text/plain": [
       "<matplotlib.figure.Figure at 0x1186ddd68>"
      ]
     },
     "metadata": {},
     "output_type": "display_data"
    }
   ],
   "source": [
    "%matplotlib inline  \n",
    "plt.plot(running_corrects_history, label='training accuracy')\n",
    "plt.plot(val_running_corrects_history, label='validation accuracy')\n",
    "plt.legend()"
   ]
  },
  {
   "cell_type": "markdown",
   "metadata": {},
   "source": [
    "### Predicting the digits from the validation dataset"
   ]
  },
  {
   "cell_type": "code",
   "execution_count": 9,
   "metadata": {},
   "outputs": [
    {
     "data": {
      "image/png": "[encoded data removed]",
      "text/plain": [
       "<matplotlib.figure.Figure at 0x1186292e8>"
      ]
     },
     "metadata": {},
     "output_type": "display_data"
    }
   ],
   "source": [
    "dataiter = iter(validation_loader)\n",
    "images, labels = dataiter.next()\n",
    "images_ = images.view(images.shape[0], -1)\n",
    "output = model(images_)\n",
    "_, preds = torch.max(output, 1)\n",
    "\n",
    "fig = plt.figure(figsize=(25, 4))\n",
    "\n",
    "for idx in np.arange(20):\n",
    "  ax = fig.add_subplot(2, 10, idx+1, xticks=[], yticks=[])\n",
    "  plt.imshow(im_convert(images[idx]))\n",
    "  ax.set_title(\"{} ({})\".format(str(preds[idx].item()), str(labels[idx].item())), color=(\"green\" if preds[idx]==labels[idx] else \"red\"))"
   ]
  },
  {
   "cell_type": "code",
   "execution_count": null,
   "metadata": {},
   "outputs": [],
   "source": []
  }
 ],
 "metadata": {
  "kernelspec": {
   "display_name": "Python 3",
   "language": "python",
   "name": "python3"
  },
  "language_info": {
   "codemirror_mode": {
    "name": "ipython",
    "version": 3
   },
   "file_extension": ".py",
   "mimetype": "text/x-python",
   "name": "python",
   "nbconvert_exporter": "python",
   "pygments_lexer": "ipython3",
   "version": "3.5.4"
  }
 },
 "nbformat": 4,
 "nbformat_minor": 2
}
